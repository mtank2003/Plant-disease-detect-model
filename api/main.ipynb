{
 "cells": [
  {
   "cell_type": "code",
   "execution_count": 1,
   "metadata": {},
   "outputs": [],
   "source": [
    "import tensorflow as tf\n",
    "from tensorflow.keras import models, layers\n",
    "import matplotlib.pyplot as plt\n",
    "from IPython.display import HTML"
   ]
  },
  {
   "cell_type": "code",
   "execution_count": 2,
   "metadata": {},
   "outputs": [],
   "source": [
    "BATCH_SIZE = 32\n",
    "IMAGE_SIZE = 256\n",
    "CHANNELS = 3\n",
    "EPOCHS = 5"
   ]
  },
  {
   "cell_type": "code",
   "execution_count": 3,
   "metadata": {},
   "outputs": [
    {
     "name": "stdout",
     "output_type": "stream",
     "text": [
      "Found 2152 files belonging to 3 classes.\n"
     ]
    }
   ],
   "source": [
    "dataset = tf.keras.preprocessing.image_dataset_from_directory(\n",
    "    \"../training/PlantVillage\",\n",
    "    seed=123,\n",
    "    shuffle=True,\n",
    "    image_size=(IMAGE_SIZE, IMAGE_SIZE),\n",
    "    batch_size=BATCH_SIZE\n",
    ")\n"
   ]
  },
  {
   "cell_type": "code",
   "execution_count": 4,
   "metadata": {},
   "outputs": [
    {
     "data": {
      "text/plain": [
       "['Potato___Early_blight', 'Potato___Late_blight', 'Potato___healthy']"
      ]
     },
     "execution_count": 4,
     "metadata": {},
     "output_type": "execute_result"
    }
   ],
   "source": [
    "class_names = dataset.class_names\n",
    "class_names"
   ]
  },
  {
   "cell_type": "code",
   "execution_count": 5,
   "metadata": {},
   "outputs": [
    {
     "name": "stdout",
     "output_type": "stream",
     "text": [
      "(32, 256, 256, 3)\n",
      "[1 1 1 0 0 0 0 0 1 1 1 1 0 1 0 1 1 1 0 1 0 1 0 0 1 0 0 1 1 2 0 0]\n"
     ]
    }
   ],
   "source": [
    "for image_batch, labels_batch in dataset.take(1):\n",
    "    print(image_batch.shape)\n",
    "    print(labels_batch.numpy())"
   ]
  },
  {
   "cell_type": "code",
   "execution_count": 6,
   "metadata": {},
   "outputs": [
    {
     "data": {
      "text/plain": [
       "68"
      ]
     },
     "execution_count": 6,
     "metadata": {},
     "output_type": "execute_result"
    }
   ],
   "source": [
    "len(dataset)"
   ]
  },
  {
   "cell_type": "code",
   "execution_count": 7,
   "metadata": {},
   "outputs": [
    {
     "data": {
      "text/plain": [
       "54.400000000000006"
      ]
     },
     "execution_count": 7,
     "metadata": {},
     "output_type": "execute_result"
    }
   ],
   "source": [
    "train_size = 0.8\n",
    "len(dataset)*train_size\n"
   ]
  },
  {
   "cell_type": "code",
   "execution_count": 8,
   "metadata": {},
   "outputs": [
    {
     "data": {
      "text/plain": [
       "54"
      ]
     },
     "execution_count": 8,
     "metadata": {},
     "output_type": "execute_result"
    }
   ],
   "source": [
    "train_ds = dataset.take(54)\n",
    "len(train_ds)\n"
   ]
  },
  {
   "cell_type": "code",
   "execution_count": 9,
   "metadata": {},
   "outputs": [
    {
     "data": {
      "text/plain": [
       "14"
      ]
     },
     "execution_count": 9,
     "metadata": {},
     "output_type": "execute_result"
    }
   ],
   "source": [
    "test_ds = dataset.skip(54)\n",
    "len(test_ds)\n"
   ]
  },
  {
   "cell_type": "code",
   "execution_count": 10,
   "metadata": {},
   "outputs": [
    {
     "data": {
      "text/plain": [
       "6.800000000000001"
      ]
     },
     "execution_count": 10,
     "metadata": {},
     "output_type": "execute_result"
    }
   ],
   "source": [
    "val_size = 0.1\n",
    "len(dataset)*val_size\n"
   ]
  },
  {
   "cell_type": "code",
   "execution_count": 11,
   "metadata": {},
   "outputs": [
    {
     "data": {
      "text/plain": [
       "6"
      ]
     },
     "execution_count": 11,
     "metadata": {},
     "output_type": "execute_result"
    }
   ],
   "source": [
    "val_ds = test_ds.take(6)\n",
    "len(val_ds)\n"
   ]
  },
  {
   "cell_type": "code",
   "execution_count": 12,
   "metadata": {},
   "outputs": [
    {
     "data": {
      "text/plain": [
       "8"
      ]
     },
     "execution_count": 12,
     "metadata": {},
     "output_type": "execute_result"
    }
   ],
   "source": [
    "test_ds = test_ds.skip(6)\n",
    "len(test_ds)\n"
   ]
  },
  {
   "cell_type": "code",
   "execution_count": 13,
   "metadata": {},
   "outputs": [],
   "source": [
    "def get_dataset_partitions_tf(ds, train_split=0.8, val_split=0.1, test_split=0.1, shuffle=True, shuffle_size=10000):\n",
    "    assert (train_split + test_split + val_split) == 1\n",
    "\n",
    "    ds_size = len(ds)\n",
    "\n",
    "    if shuffle:\n",
    "        ds = ds.shuffle(shuffle_size, seed=12)\n",
    "\n",
    "    train_size = int(train_split * ds_size)\n",
    "    val_size = int(val_split * ds_size)\n",
    "\n",
    "    train_ds = ds.take(train_size)\n",
    "    val_ds = ds.skip(train_size).take(val_size)\n",
    "    test_ds = ds.skip(train_size).skip(val_size)\n",
    "\n",
    "    return train_ds, val_ds, test_ds\n"
   ]
  },
  {
   "cell_type": "code",
   "execution_count": 14,
   "metadata": {},
   "outputs": [],
   "source": [
    "train_ds, val_ds, test_ds = get_dataset_partitions_tf(dataset)\n"
   ]
  },
  {
   "cell_type": "code",
   "execution_count": 15,
   "metadata": {},
   "outputs": [],
   "source": [
    "train_ds = train_ds.cache().shuffle(1000).prefetch(buffer_size=tf.data.AUTOTUNE)\n",
    "val_ds = val_ds.cache().shuffle(1000).prefetch(buffer_size=tf.data.AUTOTUNE)\n",
    "test_ds = test_ds.cache().shuffle(1000).prefetch(buffer_size=tf.data.AUTOTUNE)\n"
   ]
  },
  {
   "cell_type": "code",
   "execution_count": 16,
   "metadata": {},
   "outputs": [],
   "source": [
    "resize_and_rescale = tf.keras.Sequential([\n",
    "    layers.experimental.preprocessing.Resizing(IMAGE_SIZE, IMAGE_SIZE),\n",
    "    layers.experimental.preprocessing.Rescaling(1./255),\n",
    "])\n"
   ]
  },
  {
   "cell_type": "code",
   "execution_count": 17,
   "metadata": {},
   "outputs": [],
   "source": [
    "resize_and_rescale = tf.keras.Sequential([\n",
    "    layers.experimental.preprocessing.Resizing(IMAGE_SIZE, IMAGE_SIZE),\n",
    "    layers.experimental.preprocessing.Rescaling(1./255),\n",
    "])\n"
   ]
  },
  {
   "cell_type": "code",
   "execution_count": 18,
   "metadata": {},
   "outputs": [],
   "source": [
    "data_augmentation = tf.keras.Sequential([\n",
    "    layers.experimental.preprocessing.RandomFlip(\"horizontal_and_vertical\"),\n",
    "    layers.experimental.preprocessing.RandomRotation(0.2),\n",
    "])\n"
   ]
  },
  {
   "cell_type": "code",
   "execution_count": 19,
   "metadata": {},
   "outputs": [],
   "source": [
    "train_ds = train_ds.map(\n",
    "    lambda x, y: (data_augmentation(x, training=True), y)\n",
    ").prefetch(buffer_size=tf.data.AUTOTUNE)\n"
   ]
  },
  {
   "cell_type": "code",
   "execution_count": 20,
   "metadata": {},
   "outputs": [],
   "source": [
    "input_shape = (BATCH_SIZE, IMAGE_SIZE, IMAGE_SIZE, CHANNELS)\n",
    "n_classes = 3\n",
    "\n",
    "model = models.Sequential([\n",
    "    resize_and_rescale,\n",
    "    layers.Conv2D(32, kernel_size=(3, 3), activation='relu',\n",
    "                  input_shape=input_shape),\n",
    "    layers.MaxPooling2D((2, 2)),\n",
    "    layers.Conv2D(64,  kernel_size=(3, 3), activation='relu'),\n",
    "    layers.MaxPooling2D((2, 2)),\n",
    "    layers.Conv2D(64,  kernel_size=(3, 3), activation='relu'),\n",
    "    layers.MaxPooling2D((2, 2)),\n",
    "    layers.Conv2D(64, (3, 3), activation='relu'),\n",
    "    layers.MaxPooling2D((2, 2)),\n",
    "    layers.Conv2D(64, (3, 3), activation='relu'),\n",
    "    layers.MaxPooling2D((2, 2)),\n",
    "    layers.Conv2D(64, (3, 3), activation='relu'),\n",
    "    layers.MaxPooling2D((2, 2)),\n",
    "    layers.Flatten(),\n",
    "    layers.Dense(64, activation='relu'),\n",
    "    layers.Dense(n_classes, activation='softmax'),\n",
    "])\n",
    "\n",
    "model.build(input_shape=input_shape)\n"
   ]
  },
  {
   "cell_type": "code",
   "execution_count": 21,
   "metadata": {},
   "outputs": [
    {
     "name": "stdout",
     "output_type": "stream",
     "text": [
      "Model: \"sequential_3\"\n",
      "_________________________________________________________________\n",
      " Layer (type)                Output Shape              Param #   \n",
      "=================================================================\n",
      " sequential_1 (Sequential)   (32, 256, 256, 3)         0         \n",
      "                                                                 \n",
      " conv2d (Conv2D)             (32, 254, 254, 32)        896       \n",
      "                                                                 \n",
      " max_pooling2d (MaxPooling2D  (32, 127, 127, 32)       0         \n",
      " )                                                               \n",
      "                                                                 \n",
      " conv2d_1 (Conv2D)           (32, 125, 125, 64)        18496     \n",
      "                                                                 \n",
      " max_pooling2d_1 (MaxPooling  (32, 62, 62, 64)         0         \n",
      " 2D)                                                             \n",
      "                                                                 \n",
      " conv2d_2 (Conv2D)           (32, 60, 60, 64)          36928     \n",
      "                                                                 \n",
      " max_pooling2d_2 (MaxPooling  (32, 30, 30, 64)         0         \n",
      " 2D)                                                             \n",
      "                                                                 \n",
      " conv2d_3 (Conv2D)           (32, 28, 28, 64)          36928     \n",
      "                                                                 \n",
      " max_pooling2d_3 (MaxPooling  (32, 14, 14, 64)         0         \n",
      " 2D)                                                             \n",
      "                                                                 \n",
      " conv2d_4 (Conv2D)           (32, 12, 12, 64)          36928     \n",
      "                                                                 \n",
      " max_pooling2d_4 (MaxPooling  (32, 6, 6, 64)           0         \n",
      " 2D)                                                             \n",
      "                                                                 \n",
      " conv2d_5 (Conv2D)           (32, 4, 4, 64)            36928     \n",
      "                                                                 \n",
      " max_pooling2d_5 (MaxPooling  (32, 2, 2, 64)           0         \n",
      " 2D)                                                             \n",
      "                                                                 \n",
      " flatten (Flatten)           (32, 256)                 0         \n",
      "                                                                 \n",
      " dense (Dense)               (32, 64)                  16448     \n",
      "                                                                 \n",
      " dense_1 (Dense)             (32, 3)                   195       \n",
      "                                                                 \n",
      "=================================================================\n",
      "Total params: 183,747\n",
      "Trainable params: 183,747\n",
      "Non-trainable params: 0\n",
      "_________________________________________________________________\n"
     ]
    }
   ],
   "source": [
    "model.summary()\n"
   ]
  },
  {
   "cell_type": "code",
   "execution_count": 22,
   "metadata": {},
   "outputs": [],
   "source": [
    "model.compile(\n",
    "    optimizer='adam',\n",
    "    loss=tf.keras.losses.SparseCategoricalCrossentropy(from_logits=False),\n",
    "    metrics=['accuracy']\n",
    ")\n"
   ]
  },
  {
   "cell_type": "code",
   "execution_count": 30,
   "metadata": {},
   "outputs": [
    {
     "name": "stdout",
     "output_type": "stream",
     "text": [
      "Epoch 1/50\n",
      "54/54 [==============================] - 61s 947ms/step - loss: 0.8801 - accuracy: 0.5625 - val_loss: 0.7235 - val_accuracy: 0.6823\n",
      "Epoch 2/50\n",
      "54/54 [==============================] - 46s 841ms/step - loss: 0.6007 - accuracy: 0.7413 - val_loss: 0.6748 - val_accuracy: 0.6823\n",
      "Epoch 3/50\n",
      "54/54 [==============================] - 44s 804ms/step - loss: 0.4469 - accuracy: 0.8056 - val_loss: 0.5084 - val_accuracy: 0.7865\n",
      "Epoch 4/50\n",
      "54/54 [==============================] - 46s 856ms/step - loss: 0.3070 - accuracy: 0.8767 - val_loss: 0.2659 - val_accuracy: 0.8698\n",
      "Epoch 5/50\n",
      "54/54 [==============================] - 51s 939ms/step - loss: 0.2848 - accuracy: 0.8837 - val_loss: 0.2181 - val_accuracy: 0.8906\n",
      "Epoch 6/50\n",
      "54/54 [==============================] - 51s 939ms/step - loss: 0.1901 - accuracy: 0.9259 - val_loss: 0.3046 - val_accuracy: 0.8542\n",
      "Epoch 7/50\n",
      "54/54 [==============================] - 45s 835ms/step - loss: 0.1987 - accuracy: 0.9253 - val_loss: 0.2129 - val_accuracy: 0.9062\n",
      "Epoch 8/50\n",
      "54/54 [==============================] - 49s 905ms/step - loss: 0.1562 - accuracy: 0.9392 - val_loss: 0.1143 - val_accuracy: 0.9688\n",
      "Epoch 9/50\n",
      "54/54 [==============================] - 45s 825ms/step - loss: 0.1604 - accuracy: 0.9358 - val_loss: 0.0846 - val_accuracy: 0.9740\n",
      "Epoch 10/50\n",
      "54/54 [==============================] - 57s 1s/step - loss: 0.2722 - accuracy: 0.8877 - val_loss: 0.1885 - val_accuracy: 0.9115\n",
      "Epoch 11/50\n",
      "54/54 [==============================] - 52s 964ms/step - loss: 0.2450 - accuracy: 0.9097 - val_loss: 0.1111 - val_accuracy: 0.9479\n",
      "Epoch 12/50\n",
      "54/54 [==============================] - 48s 878ms/step - loss: 0.1312 - accuracy: 0.9514 - val_loss: 0.1204 - val_accuracy: 0.9427\n",
      "Epoch 13/50\n",
      "54/54 [==============================] - 51s 947ms/step - loss: 0.1411 - accuracy: 0.9525 - val_loss: 0.1362 - val_accuracy: 0.9427\n",
      "Epoch 14/50\n",
      "54/54 [==============================] - 48s 879ms/step - loss: 0.1009 - accuracy: 0.9635 - val_loss: 0.1218 - val_accuracy: 0.9479\n",
      "Epoch 15/50\n",
      "54/54 [==============================] - 44s 802ms/step - loss: 0.0914 - accuracy: 0.9659 - val_loss: 0.0544 - val_accuracy: 0.9844\n",
      "Epoch 16/50\n",
      "54/54 [==============================] - 46s 830ms/step - loss: 0.0876 - accuracy: 0.9653 - val_loss: 0.0386 - val_accuracy: 0.9948\n",
      "Epoch 17/50\n",
      "54/54 [==============================] - 45s 835ms/step - loss: 0.0800 - accuracy: 0.9688 - val_loss: 0.2566 - val_accuracy: 0.9062\n",
      "Epoch 18/50\n",
      "54/54 [==============================] - 45s 835ms/step - loss: 0.0698 - accuracy: 0.9780 - val_loss: 0.0287 - val_accuracy: 0.9896\n",
      "Epoch 19/50\n",
      "54/54 [==============================] - 44s 820ms/step - loss: 0.0770 - accuracy: 0.9716 - val_loss: 0.0519 - val_accuracy: 0.9792\n",
      "Epoch 20/50\n",
      "54/54 [==============================] - 43s 795ms/step - loss: 0.0595 - accuracy: 0.9797 - val_loss: 0.0649 - val_accuracy: 0.9792\n",
      "Epoch 21/50\n",
      "54/54 [==============================] - 43s 791ms/step - loss: 0.0560 - accuracy: 0.9815 - val_loss: 0.0777 - val_accuracy: 0.9740\n",
      "Epoch 22/50\n",
      "54/54 [==============================] - 43s 790ms/step - loss: 0.0663 - accuracy: 0.9745 - val_loss: 0.0294 - val_accuracy: 0.9896\n",
      "Epoch 23/50\n",
      "54/54 [==============================] - 48s 885ms/step - loss: 0.0675 - accuracy: 0.9745 - val_loss: 0.1153 - val_accuracy: 0.9583\n",
      "Epoch 24/50\n",
      "54/54 [==============================] - 55s 1s/step - loss: 0.0946 - accuracy: 0.9664 - val_loss: 0.0700 - val_accuracy: 0.9844\n",
      "Epoch 25/50\n",
      "54/54 [==============================] - 59s 1s/step - loss: 0.0549 - accuracy: 0.9809 - val_loss: 0.0412 - val_accuracy: 0.9948\n",
      "Epoch 26/50\n",
      "54/54 [==============================] - 55s 1s/step - loss: 0.0701 - accuracy: 0.9716 - val_loss: 0.0441 - val_accuracy: 0.9896\n",
      "Epoch 27/50\n",
      "54/54 [==============================] - 53s 976ms/step - loss: 0.0606 - accuracy: 0.9751 - val_loss: 0.0410 - val_accuracy: 0.9844\n",
      "Epoch 28/50\n",
      "54/54 [==============================] - 54s 994ms/step - loss: 0.0644 - accuracy: 0.9774 - val_loss: 0.0918 - val_accuracy: 0.9635\n",
      "Epoch 29/50\n",
      "54/54 [==============================] - 49s 909ms/step - loss: 0.0413 - accuracy: 0.9878 - val_loss: 0.0211 - val_accuracy: 0.9948\n",
      "Epoch 30/50\n",
      "54/54 [==============================] - 46s 836ms/step - loss: 0.0566 - accuracy: 0.9792 - val_loss: 0.0910 - val_accuracy: 0.9740\n",
      "Epoch 31/50\n",
      "54/54 [==============================] - 52s 970ms/step - loss: 0.0373 - accuracy: 0.9884 - val_loss: 0.0271 - val_accuracy: 1.0000\n",
      "Epoch 32/50\n",
      "54/54 [==============================] - 51s 938ms/step - loss: 0.0372 - accuracy: 0.9867 - val_loss: 0.0930 - val_accuracy: 0.9583\n",
      "Epoch 33/50\n",
      "54/54 [==============================] - 51s 934ms/step - loss: 0.0901 - accuracy: 0.9664 - val_loss: 0.1449 - val_accuracy: 0.9427\n",
      "Epoch 34/50\n",
      "54/54 [==============================] - 50s 917ms/step - loss: 0.0582 - accuracy: 0.9809 - val_loss: 0.1682 - val_accuracy: 0.9115\n",
      "Epoch 35/50\n",
      "54/54 [==============================] - 46s 853ms/step - loss: 0.0411 - accuracy: 0.9826 - val_loss: 0.0067 - val_accuracy: 1.0000\n",
      "Epoch 36/50\n",
      "54/54 [==============================] - 47s 859ms/step - loss: 0.0314 - accuracy: 0.9907 - val_loss: 0.0218 - val_accuracy: 0.9896\n",
      "Epoch 37/50\n",
      "54/54 [==============================] - 48s 894ms/step - loss: 0.0647 - accuracy: 0.9809 - val_loss: 0.0231 - val_accuracy: 0.9844\n",
      "Epoch 38/50\n",
      "54/54 [==============================] - 50s 927ms/step - loss: 0.0393 - accuracy: 0.9855 - val_loss: 0.0522 - val_accuracy: 0.9896\n",
      "Epoch 39/50\n",
      "54/54 [==============================] - 48s 894ms/step - loss: 0.0256 - accuracy: 0.9890 - val_loss: 0.2108 - val_accuracy: 0.9375\n",
      "Epoch 40/50\n",
      "54/54 [==============================] - 45s 823ms/step - loss: 0.0646 - accuracy: 0.9780 - val_loss: 0.0965 - val_accuracy: 0.9531\n",
      "Epoch 41/50\n",
      "54/54 [==============================] - 45s 813ms/step - loss: 0.0506 - accuracy: 0.9792 - val_loss: 0.0774 - val_accuracy: 0.9635\n",
      "Epoch 42/50\n",
      "54/54 [==============================] - 45s 822ms/step - loss: 0.0460 - accuracy: 0.9873 - val_loss: 0.0150 - val_accuracy: 0.9896\n",
      "Epoch 43/50\n",
      "54/54 [==============================] - 44s 817ms/step - loss: 0.0279 - accuracy: 0.9913 - val_loss: 0.0106 - val_accuracy: 0.9948\n",
      "Epoch 44/50\n",
      "54/54 [==============================] - 42s 775ms/step - loss: 0.0208 - accuracy: 0.9913 - val_loss: 0.0186 - val_accuracy: 0.9896\n",
      "Epoch 45/50\n",
      "54/54 [==============================] - 45s 830ms/step - loss: 0.0205 - accuracy: 0.9919 - val_loss: 0.0953 - val_accuracy: 0.9740\n",
      "Epoch 46/50\n",
      "54/54 [==============================] - 45s 837ms/step - loss: 0.0252 - accuracy: 0.9913 - val_loss: 0.0107 - val_accuracy: 0.9948\n",
      "Epoch 47/50\n",
      "54/54 [==============================] - 45s 820ms/step - loss: 0.0353 - accuracy: 0.9867 - val_loss: 0.0105 - val_accuracy: 1.0000\n",
      "Epoch 48/50\n",
      "54/54 [==============================] - 42s 779ms/step - loss: 0.0326 - accuracy: 0.9867 - val_loss: 0.1924 - val_accuracy: 0.9531\n",
      "Epoch 49/50\n",
      "54/54 [==============================] - 45s 825ms/step - loss: 0.0447 - accuracy: 0.9821 - val_loss: 0.0242 - val_accuracy: 0.9844\n",
      "Epoch 50/50\n",
      "54/54 [==============================] - 45s 824ms/step - loss: 0.0272 - accuracy: 0.9902 - val_loss: 0.0679 - val_accuracy: 0.9740\n"
     ]
    }
   ],
   "source": [
    "history = model.fit(\n",
    "    train_ds,\n",
    "    batch_size=BATCH_SIZE,\n",
    "    validation_data=val_ds,\n",
    "    verbose=1,\n",
    "    epochs=50\n",
    ")\n"
   ]
  },
  {
   "cell_type": "code",
   "execution_count": 31,
   "metadata": {},
   "outputs": [
    {
     "name": "stdout",
     "output_type": "stream",
     "text": [
      "8/8 [==============================] - 4s 268ms/step - loss: 0.0832 - accuracy: 0.9727\n"
     ]
    }
   ],
   "source": [
    "scores = model.evaluate(test_ds)"
   ]
  },
  {
   "cell_type": "code",
   "execution_count": 32,
   "metadata": {},
   "outputs": [
    {
     "data": {
      "text/plain": [
       "[0.08318143337965012, 0.97265625]"
      ]
     },
     "execution_count": 32,
     "metadata": {},
     "output_type": "execute_result"
    }
   ],
   "source": [
    "scores\n"
   ]
  },
  {
   "cell_type": "code",
   "execution_count": 33,
   "metadata": {},
   "outputs": [
    {
     "data": {
      "text/plain": [
       "<keras.callbacks.History at 0x21254384df0>"
      ]
     },
     "execution_count": 33,
     "metadata": {},
     "output_type": "execute_result"
    }
   ],
   "source": [
    "history\n"
   ]
  },
  {
   "cell_type": "code",
   "execution_count": 34,
   "metadata": {},
   "outputs": [
    {
     "data": {
      "text/plain": [
       "{'verbose': 1, 'epochs': 50, 'steps': 54}"
      ]
     },
     "execution_count": 34,
     "metadata": {},
     "output_type": "execute_result"
    }
   ],
   "source": [
    "history.params\n"
   ]
  },
  {
   "cell_type": "code",
   "execution_count": 35,
   "metadata": {},
   "outputs": [
    {
     "data": {
      "text/plain": [
       "dict_keys(['loss', 'accuracy', 'val_loss', 'val_accuracy'])"
      ]
     },
     "execution_count": 35,
     "metadata": {},
     "output_type": "execute_result"
    }
   ],
   "source": [
    "history.history.keys()\n"
   ]
  },
  {
   "cell_type": "code",
   "execution_count": 36,
   "metadata": {},
   "outputs": [
    {
     "data": {
      "text/plain": [
       "list"
      ]
     },
     "execution_count": 36,
     "metadata": {},
     "output_type": "execute_result"
    }
   ],
   "source": [
    "type(history.history['loss'])\n"
   ]
  },
  {
   "cell_type": "code",
   "execution_count": 37,
   "metadata": {},
   "outputs": [
    {
     "data": {
      "text/plain": [
       "50"
      ]
     },
     "execution_count": 37,
     "metadata": {},
     "output_type": "execute_result"
    }
   ],
   "source": [
    "len(history.history['loss'])\n"
   ]
  },
  {
   "cell_type": "code",
   "execution_count": 38,
   "metadata": {},
   "outputs": [],
   "source": [
    "acc = history.history['accuracy']\n",
    "val_acc = history.history['val_accuracy']\n",
    "\n",
    "loss = history.history['loss']\n",
    "val_loss = history.history['val_loss']\n"
   ]
  },
  {
   "cell_type": "code",
   "execution_count": 39,
   "metadata": {},
   "outputs": [],
   "source": [
    "import numpy as np\n",
    "\n",
    "\n",
    "def predict(model, img):\n",
    "    img_array = tf.keras.preprocessing.image.img_to_array(images[i].numpy())\n",
    "    img_array = tf.expand_dims(img_array, 0)\n",
    "\n",
    "    predictions = model.predict(img_array)\n",
    "\n",
    "    predicted_class = class_names[np.argmax(predictions[0])]\n",
    "#     predicted_class = class_names[predictions[0]]\n",
    "    confidence = round(100 * (np.max(predictions[0])), 2)\n",
    "#     confidence = round(100 * (predictions[0]), 2)\n",
    "    return predicted_class, confidence\n"
   ]
  },
  {
   "cell_type": "code",
   "execution_count": 40,
   "metadata": {},
   "outputs": [
    {
     "name": "stdout",
     "output_type": "stream",
     "text": [
      "1/1 [==============================] - 0s 296ms/step\n",
      "Actual: Potato___healthy, \n",
      "Predicted: Potato___Late_blight.\n",
      " Confidence: 78.5%\n",
      "1/1 [==============================] - 0s 43ms/step\n",
      "Actual: Potato___Early_blight, \n",
      "Predicted: Potato___Early_blight.\n",
      " Confidence: 100.0%\n",
      "1/1 [==============================] - 0s 46ms/step\n",
      "Actual: Potato___Late_blight, \n",
      "Predicted: Potato___Late_blight.\n",
      " Confidence: 100.0%\n",
      "1/1 [==============================] - 0s 40ms/step\n",
      "Actual: Potato___Early_blight, \n",
      "Predicted: Potato___Early_blight.\n",
      " Confidence: 100.0%\n",
      "1/1 [==============================] - 0s 46ms/step\n",
      "Actual: Potato___Early_blight, \n",
      "Predicted: Potato___Early_blight.\n",
      " Confidence: 99.98%\n",
      "1/1 [==============================] - 0s 45ms/step\n",
      "Actual: Potato___Early_blight, \n",
      "Predicted: Potato___Early_blight.\n",
      " Confidence: 100.0%\n",
      "1/1 [==============================] - 0s 40ms/step\n",
      "Actual: Potato___Late_blight, \n",
      "Predicted: Potato___Late_blight.\n",
      " Confidence: 100.0%\n",
      "1/1 [==============================] - 0s 42ms/step\n",
      "Actual: Potato___Early_blight, \n",
      "Predicted: Potato___Early_blight.\n",
      " Confidence: 100.0%\n",
      "1/1 [==============================] - 0s 39ms/step\n",
      "Actual: Potato___Early_blight, \n",
      "Predicted: Potato___Early_blight.\n",
      " Confidence: 100.0%\n"
     ]
    }
   ],
   "source": [
    "for images, labels in test_ds.take(1):\n",
    "    for i in range(9):\n",
    "        #         ax = plt.subplot(3, 3, i + 1)\n",
    "        #         plt.imshow(images[i].numpy().astype(\"uint8\"))\n",
    "\n",
    "        predicted_class, confidence = predict(model, images[i].numpy())\n",
    "        actual_class = class_names[labels[i]]\n",
    "\n",
    "        print(\n",
    "            f\"Actual: {actual_class}, \\nPredicted: {predicted_class}.\\n Confidence: {confidence}%\")\n",
    "#         f\"Actual: {actual_class},\\n Predicted: {predicted_class}.\\n Confidence: {confidence}%\")\n",
    "\n",
    "#         plt.axis(\"off\")\n"
   ]
  },
  {
   "cell_type": "code",
   "execution_count": 43,
   "metadata": {},
   "outputs": [],
   "source": [
    "model.save(\"Model1.h5\")\n",
    "# reconstructed_model = tf.keras.models.load_model(\"my_h5_model.h5\")"
   ]
  },
  {
   "cell_type": "code",
   "execution_count": 44,
   "metadata": {},
   "outputs": [],
   "source": [
    "# MODEL = tf.keras.models.load_model('../saved_models/1')\n",
    "MODEL = tf.keras.models.load_model('Model1.h5')"
   ]
  },
  {
   "cell_type": "code",
   "execution_count": 32,
   "metadata": {},
   "outputs": [],
   "source": [
    "# MODEL1 = tf.keras.models.load_model('../saved_models/')"
   ]
  },
  {
   "cell_type": "code",
   "execution_count": 26,
   "metadata": {},
   "outputs": [
    {
     "name": "stdout",
     "output_type": "stream",
     "text": [
      "2.9.1\n"
     ]
    }
   ],
   "source": [
    "import tensorflow as tf\n",
    "print(tf. __version__)\n"
   ]
  },
  {
   "cell_type": "code",
   "execution_count": 27,
   "metadata": {},
   "outputs": [],
   "source": [
    "# from fastapi import FastAPI, File, UploadFile\n",
    "# import uvicorn\n",
    "# import numpy as np\n",
    "# from io import BytesIO\n",
    "# from PIL import Image\n",
    "# import tensorflow as tf\n",
    "# import asyncio\n",
    "# import requests\n",
    "\n",
    "from fastapi import FastAPI, File, UploadFile\n",
    "from fastapi.middleware.cors import CORSMiddleware\n",
    "import uvicorn\n",
    "import numpy as np\n",
    "from io import BytesIO\n",
    "from PIL import Image\n",
    "import tensorflow as tf\n",
    "import requests\n",
    "from requests import request\n",
    "from keras.preprocessing import image\n",
    "import json\n",
    "import base64\n"
   ]
  },
  {
   "cell_type": "code",
   "execution_count": 28,
   "metadata": {},
   "outputs": [],
   "source": [
    "app = FastAPI()\n",
    "# import os\n",
    "# os.environ['PATH']"
   ]
  },
  {
   "cell_type": "code",
   "execution_count": null,
   "metadata": {},
   "outputs": [],
   "source": [
    "# origins = [\n",
    "#     \"http://localhost\",\n",
    "#     \"http://localhost:3000\",\n",
    "# ]\n",
    "# app.add_middleware(\n",
    "#     CORSMiddleware,\n",
    "#     allow_origins=origins,\n",
    "#     allow_credentials=True,\n",
    "#     allow_methods=[\"*\"],\n",
    "#     allow_headers=[\"*\"],\n",
    "# )\n",
    "\n",
    "# MODEL = tf.keras.models.load_model(\"../saved_models/1\")\n",
    "\n",
    "CLASS_NAMES = [\"Early Blight\", \"Late Blight\", \"Healthy\"]\n",
    "\n",
    "@app.get(\"/ping\")\n",
    "async def ping():\n",
    "    return \"Hello, I am alive\"\n",
    "\n",
    "def read_file_as_image(data) -> np.ndarray:\n",
    "    image = np.array(Image.open(BytesIO(data)))\n",
    "    return image\n",
    "\n",
    "@app.post(\"/predict\")\n",
    "async def predict(\n",
    "    file: UploadFile = File(...)\n",
    "):\n",
    "\n",
    "    image = read_file_as_image(await file.read())\n",
    "    img_batch = np.expand_dims(image, 0)\n",
    "    \n",
    "    predictions = MODEL.predict(img_batch)\n",
    "\n",
    "    predicted_class = CLASS_NAMES[np.argmax(predictions[0])]\n",
    "    confidence = np.max(predictions[0])\n",
    "    return {\n",
    "        'class': predicted_class,\n",
    "        'confidence': float(confidence)\n",
    "    }\n",
    "\n",
    "\n",
    "# how to send image file inside request in python\n",
    "\n",
    "# @app.post(\"/uploadfile\")\n",
    "# async def create_upload_file(file: UploadFile):\n",
    "#     return {\"filename\": file.filename}\n",
    "\n",
    "\n",
    "# extra\n",
    "\n",
    "# @app.post(\"/upload\")\n",
    "# def upload(file: UploadFile = File(...)):\n",
    "#     try:\n",
    "#         contents = file.file.read()\n",
    "#         with open(file.filename, 'wb') as f:\n",
    "#             f.write(contents)\n",
    "#     except Exception:\n",
    "#         return {\"message\": \"There was an error uploading the file\"}\n",
    "#     finally:\n",
    "#         file.file.close()\n",
    "\n",
    "#     return {\"message\": f\"Successfully uploaded {file.filename}\"}\n",
    "\n",
    "\n",
    "\n",
    "# if __name__ == \"__main__\":\n",
    "#     config = uvicorn.Config(app)\n",
    "#     server = uvicorn.Server(config)\n",
    "#     await server.serve()\n",
    "\n",
    "if __name__ == \"__main__\":\n",
    "    config = uvicorn.Config(app)\n",
    "    server = uvicorn.Server(config)\n",
    "    await server.serve()\n",
    "    # uvicorn.run(app, host='localhost', port=8000)\n"
   ]
  },
  {
   "cell_type": "code",
   "execution_count": null,
   "metadata": {},
   "outputs": [],
   "source": [
    "# from fastapi import FastAPI, File, UploadFile, responses\n",
    "\n",
    "# from fastapi import FastAPI, File, UploadFile\n",
    "# from fastapi.middleware.cors import CORSMiddleware\n",
    "# import uvicorn\n",
    "# import numpy as np\n",
    "# from io import BytesIO\n",
    "# from PIL import Image\n",
    "# import tensorflow as tf\n",
    "# import requests\n",
    "# from requests import request\n",
    "# from keras.preprocessing import image\n",
    "# # from deta import Drive\n",
    "\n",
    "# app = FastAPI()\n",
    "# # files = Drive(\"files\")\n",
    "\n",
    "\n",
    "# @app.post(\"/\")\n",
    "# def upload(file: UploadFile = File(...)):\n",
    "#     # return files.put(file.filename, file.file)\n",
    "#     return file.filename\n",
    "\n",
    "# if __name__ == \"__main__\":\n",
    "#     config = uvicorn.Config(app)\n",
    "#     server = uvicorn.Server(config)\n",
    "#     await server.serve()"
   ]
  }
 ],
 "metadata": {
  "kernelspec": {
   "display_name": "Python 3.9.13 ('base')",
   "language": "python",
   "name": "python3"
  },
  "language_info": {
   "codemirror_mode": {
    "name": "ipython",
    "version": 3
   },
   "file_extension": ".py",
   "mimetype": "text/x-python",
   "name": "python",
   "nbconvert_exporter": "python",
   "pygments_lexer": "ipython3",
   "version": "3.9.13"
  },
  "orig_nbformat": 4,
  "vscode": {
   "interpreter": {
    "hash": "ad2bdc8ecc057115af97d19610ffacc2b4e99fae6737bb82f5d7fb13d2f2c186"
   }
  }
 },
 "nbformat": 4,
 "nbformat_minor": 2
}
