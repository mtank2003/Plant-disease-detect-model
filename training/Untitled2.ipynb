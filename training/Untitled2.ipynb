{
 "cells": [
  {
   "cell_type": "code",
   "execution_count": 1,
   "id": "87d228cb",
   "metadata": {},
   "outputs": [],
   "source": [
    "# Import all the Dependencies\n",
    "import tensorflow as tf\n",
    "from tensorflow.keras import models, layers\n",
    "import matplotlib.pyplot as plt\n",
    "from IPython.display import HTML\n",
    "# pip uninstall numpy\n",
    "# pip install numpy=1.14.0\n",
    "# if error for multiple dll comes.!"
   ]
  },
  {
   "cell_type": "code",
   "execution_count": 2,
   "id": "c6bb02d4",
   "metadata": {},
   "outputs": [],
   "source": [
    "BATCH_SIZE = 32\n",
    "IMAGE_SIZE = 256\n",
    "CHANNELS=3\n",
    "EPOCHS=5"
   ]
  },
  {
   "cell_type": "code",
   "execution_count": 3,
   "id": "776ca6ca",
   "metadata": {},
   "outputs": [
    {
     "name": "stdout",
     "output_type": "stream",
     "text": [
      "Found 2152 files belonging to 3 classes.\n"
     ]
    }
   ],
   "source": [
    "dataset = tf.keras.preprocessing.image_dataset_from_directory(\n",
    "    \"PlantVillage\",\n",
    "    seed=123,\n",
    "    shuffle=True,\n",
    "    image_size=(IMAGE_SIZE,IMAGE_SIZE),\n",
    "    batch_size=BATCH_SIZE\n",
    ")"
   ]
  },
  {
   "cell_type": "code",
   "execution_count": 4,
   "id": "0198ca27",
   "metadata": {},
   "outputs": [
    {
     "data": {
      "text/plain": [
       "['Potato___Early_blight', 'Potato___Late_blight', 'Potato___healthy']"
      ]
     },
     "execution_count": 4,
     "metadata": {},
     "output_type": "execute_result"
    }
   ],
   "source": [
    "class_names = dataset.class_names\n",
    "class_names"
   ]
  },
  {
   "cell_type": "code",
   "execution_count": 5,
   "id": "2589129c",
   "metadata": {},
   "outputs": [
    {
     "name": "stdout",
     "output_type": "stream",
     "text": [
      "(32, 256, 256, 3)\n",
      "[1 1 1 0 0 0 0 0 1 1 1 1 0 1 0 1 1 1 0 1 0 1 0 0 1 0 0 1 1 2 0 0]\n"
     ]
    }
   ],
   "source": [
    "for image_batch, labels_batch in dataset.take(1):\n",
    "    print(image_batch.shape)\n",
    "    print(labels_batch.numpy())"
   ]
  },
  {
   "cell_type": "code",
   "execution_count": 6,
   "id": "e5c9cae5",
   "metadata": {},
   "outputs": [],
   "source": [
    "# plt.figure(figsize=(10, 10))\n",
    "# for image_batch, labels_batch in dataset.take(1):\n",
    "#     for i in range(12):\n",
    "#         ax = plt.subplot(3, 4, i + 1)\n",
    "#         plt.imshow(image_batch[i].numpy().astype(\"uint8\"))\n",
    "#         plt.title(class_names[labels_batch[i]])\n",
    "#         plt.axis(\"off\")"
   ]
  },
  {
   "cell_type": "code",
   "execution_count": 6,
   "id": "deffcfe1",
   "metadata": {},
   "outputs": [
    {
     "data": {
      "text/plain": [
       "68"
      ]
     },
     "execution_count": 6,
     "metadata": {},
     "output_type": "execute_result"
    }
   ],
   "source": [
    "len(dataset)"
   ]
  },
  {
   "cell_type": "code",
   "execution_count": 7,
   "id": "5180b346",
   "metadata": {},
   "outputs": [
    {
     "data": {
      "text/plain": [
       "54.400000000000006"
      ]
     },
     "execution_count": 7,
     "metadata": {},
     "output_type": "execute_result"
    }
   ],
   "source": [
    "train_size = 0.8\n",
    "len(dataset)*train_size"
   ]
  },
  {
   "cell_type": "code",
   "execution_count": 8,
   "id": "1783ca8f",
   "metadata": {},
   "outputs": [
    {
     "data": {
      "text/plain": [
       "54"
      ]
     },
     "execution_count": 8,
     "metadata": {},
     "output_type": "execute_result"
    }
   ],
   "source": [
    "train_ds = dataset.take(54)\n",
    "len(train_ds)"
   ]
  },
  {
   "cell_type": "code",
   "execution_count": 9,
   "id": "5dfde960",
   "metadata": {},
   "outputs": [
    {
     "data": {
      "text/plain": [
       "14"
      ]
     },
     "execution_count": 9,
     "metadata": {},
     "output_type": "execute_result"
    }
   ],
   "source": [
    "test_ds = dataset.skip(54)\n",
    "len(test_ds)"
   ]
  },
  {
   "cell_type": "code",
   "execution_count": 10,
   "id": "afaf39bd",
   "metadata": {},
   "outputs": [
    {
     "data": {
      "text/plain": [
       "6.800000000000001"
      ]
     },
     "execution_count": 10,
     "metadata": {},
     "output_type": "execute_result"
    }
   ],
   "source": [
    "val_size=0.1\n",
    "len(dataset)*val_size"
   ]
  },
  {
   "cell_type": "code",
   "execution_count": 11,
   "id": "fb9390cb",
   "metadata": {},
   "outputs": [
    {
     "data": {
      "text/plain": [
       "6"
      ]
     },
     "execution_count": 11,
     "metadata": {},
     "output_type": "execute_result"
    }
   ],
   "source": [
    "val_ds = test_ds.take(6)\n",
    "len(val_ds)"
   ]
  },
  {
   "cell_type": "code",
   "execution_count": 12,
   "id": "5fdea015",
   "metadata": {},
   "outputs": [
    {
     "data": {
      "text/plain": [
       "8"
      ]
     },
     "execution_count": 12,
     "metadata": {},
     "output_type": "execute_result"
    }
   ],
   "source": [
    "test_ds = test_ds.skip(6)\n",
    "len(test_ds)"
   ]
  },
  {
   "cell_type": "code",
   "execution_count": 13,
   "id": "ceb664f0",
   "metadata": {},
   "outputs": [],
   "source": [
    "def get_dataset_partitions_tf(ds, train_split=0.8, val_split=0.1, test_split=0.1, shuffle=True, shuffle_size=10000):\n",
    "    assert (train_split + test_split + val_split) == 1\n",
    "    \n",
    "    ds_size = len(ds)\n",
    "    \n",
    "    if shuffle:\n",
    "        ds = ds.shuffle(shuffle_size, seed=12)\n",
    "    \n",
    "    train_size = int(train_split * ds_size)\n",
    "    val_size = int(val_split * ds_size)\n",
    "    \n",
    "    train_ds = ds.take(train_size)    \n",
    "    val_ds = ds.skip(train_size).take(val_size)\n",
    "    test_ds = ds.skip(train_size).skip(val_size)\n",
    "    \n",
    "    return train_ds, val_ds, test_ds"
   ]
  },
  {
   "cell_type": "code",
   "execution_count": 14,
   "id": "487e509e",
   "metadata": {},
   "outputs": [],
   "source": [
    "train_ds, val_ds, test_ds = get_dataset_partitions_tf(dataset)"
   ]
  },
  {
   "cell_type": "code",
   "execution_count": 15,
   "id": "05f6f109",
   "metadata": {},
   "outputs": [
    {
     "data": {
      "text/plain": [
       "54"
      ]
     },
     "execution_count": 15,
     "metadata": {},
     "output_type": "execute_result"
    }
   ],
   "source": [
    "len(train_ds)"
   ]
  },
  {
   "cell_type": "code",
   "execution_count": 17,
   "id": "d13cf294",
   "metadata": {},
   "outputs": [
    {
     "data": {
      "text/plain": [
       "6"
      ]
     },
     "execution_count": 17,
     "metadata": {},
     "output_type": "execute_result"
    }
   ],
   "source": [
    "len(val_ds)"
   ]
  },
  {
   "cell_type": "code",
   "execution_count": 18,
   "id": "2740c41b",
   "metadata": {},
   "outputs": [
    {
     "data": {
      "text/plain": [
       "8"
      ]
     },
     "execution_count": 18,
     "metadata": {},
     "output_type": "execute_result"
    }
   ],
   "source": [
    "len(test_ds)"
   ]
  },
  {
   "cell_type": "code",
   "execution_count": 19,
   "id": "26f1e343",
   "metadata": {},
   "outputs": [],
   "source": [
    "train_ds = train_ds.cache().shuffle(1000).prefetch(buffer_size=tf.data.AUTOTUNE)\n",
    "val_ds = val_ds.cache().shuffle(1000).prefetch(buffer_size=tf.data.AUTOTUNE)\n",
    "test_ds = test_ds.cache().shuffle(1000).prefetch(buffer_size=tf.data.AUTOTUNE)"
   ]
  },
  {
   "cell_type": "code",
   "execution_count": 20,
   "id": "0b52a16a",
   "metadata": {},
   "outputs": [],
   "source": [
    "resize_and_rescale = tf.keras.Sequential([\n",
    "  layers.experimental.preprocessing.Resizing(IMAGE_SIZE, IMAGE_SIZE),\n",
    "  layers.experimental.preprocessing.Rescaling(1./255),\n",
    "])"
   ]
  },
  {
   "cell_type": "code",
   "execution_count": 21,
   "id": "b8a8cd51",
   "metadata": {},
   "outputs": [],
   "source": [
    "data_augmentation = tf.keras.Sequential([\n",
    "  layers.experimental.preprocessing.RandomFlip(\"horizontal_and_vertical\"),\n",
    "  layers.experimental.preprocessing.RandomRotation(0.2),\n",
    "])"
   ]
  },
  {
   "cell_type": "code",
   "execution_count": 22,
   "id": "655e13c0",
   "metadata": {},
   "outputs": [
    {
     "name": "stdout",
     "output_type": "stream",
     "text": [
      "WARNING:tensorflow:From C:\\ProgramData\\Anaconda3\\lib\\site-packages\\tensorflow\\python\\autograph\\pyct\\static_analysis\\liveness.py:83: Analyzer.lamba_check (from tensorflow.python.autograph.pyct.static_analysis.liveness) is deprecated and will be removed after 2023-09-23.\n",
      "Instructions for updating:\n",
      "Lambda fuctions will be no more assumed to be used in the statement where they are used, or at least in the same block. https://github.com/tensorflow/tensorflow/issues/56089\n",
      "WARNING:tensorflow:Using a while_loop for converting RngReadAndSkip cause there is no registered converter for this op.\n",
      "WARNING:tensorflow:Using a while_loop for converting Bitcast cause there is no registered converter for this op.\n",
      "WARNING:tensorflow:Using a while_loop for converting Bitcast cause there is no registered converter for this op.\n",
      "WARNING:tensorflow:Using a while_loop for converting StatelessRandomUniformV2 cause there is no registered converter for this op.\n",
      "WARNING:tensorflow:Using a while_loop for converting ImageProjectiveTransformV3 cause there is no registered converter for this op.\n",
      "WARNING:tensorflow:Using a while_loop for converting RngReadAndSkip cause there is no registered converter for this op.\n",
      "WARNING:tensorflow:Using a while_loop for converting Bitcast cause there is no registered converter for this op.\n",
      "WARNING:tensorflow:Using a while_loop for converting Bitcast cause there is no registered converter for this op.\n",
      "WARNING:tensorflow:Using a while_loop for converting StatelessRandomUniformV2 cause there is no registered converter for this op.\n",
      "WARNING:tensorflow:Using a while_loop for converting ImageProjectiveTransformV3 cause there is no registered converter for this op.\n"
     ]
    }
   ],
   "source": [
    "train_ds = train_ds.map(\n",
    "    lambda x, y: (data_augmentation(x, training=True), y)\n",
    ").prefetch(buffer_size=tf.data.AUTOTUNE)"
   ]
  },
  {
   "cell_type": "code",
   "execution_count": 23,
   "id": "6a4f3659",
   "metadata": {},
   "outputs": [],
   "source": [
    "input_shape = (BATCH_SIZE, IMAGE_SIZE, IMAGE_SIZE, CHANNELS)\n",
    "n_classes = 3\n",
    "\n",
    "model = models.Sequential([\n",
    "    resize_and_rescale,\n",
    "    layers.Conv2D(32, kernel_size = (3,3), activation='relu', input_shape=input_shape),\n",
    "    layers.MaxPooling2D((2, 2)),\n",
    "    layers.Conv2D(64,  kernel_size = (3,3), activation='relu'),\n",
    "    layers.MaxPooling2D((2, 2)),\n",
    "    layers.Conv2D(64,  kernel_size = (3,3), activation='relu'),\n",
    "    layers.MaxPooling2D((2, 2)),\n",
    "    layers.Conv2D(64, (3, 3), activation='relu'),\n",
    "    layers.MaxPooling2D((2, 2)),\n",
    "    layers.Conv2D(64, (3, 3), activation='relu'),\n",
    "    layers.MaxPooling2D((2, 2)),\n",
    "    layers.Conv2D(64, (3, 3), activation='relu'),\n",
    "    layers.MaxPooling2D((2, 2)),\n",
    "    layers.Flatten(),\n",
    "    layers.Dense(64, activation='relu'),\n",
    "    layers.Dense(n_classes, activation='softmax'),\n",
    "])\n",
    "\n",
    "model.build(input_shape=input_shape)"
   ]
  },
  {
   "cell_type": "code",
   "execution_count": 24,
   "id": "5aba246d",
   "metadata": {},
   "outputs": [
    {
     "name": "stdout",
     "output_type": "stream",
     "text": [
      "Model: \"sequential_2\"\n",
      "_________________________________________________________________\n",
      " Layer (type)                Output Shape              Param #   \n",
      "=================================================================\n",
      " sequential (Sequential)     (32, 256, 256, 3)         0         \n",
      "                                                                 \n",
      " conv2d (Conv2D)             (32, 254, 254, 32)        896       \n",
      "                                                                 \n",
      " max_pooling2d (MaxPooling2D  (32, 127, 127, 32)       0         \n",
      " )                                                               \n",
      "                                                                 \n",
      " conv2d_1 (Conv2D)           (32, 125, 125, 64)        18496     \n",
      "                                                                 \n",
      " max_pooling2d_1 (MaxPooling  (32, 62, 62, 64)         0         \n",
      " 2D)                                                             \n",
      "                                                                 \n",
      " conv2d_2 (Conv2D)           (32, 60, 60, 64)          36928     \n",
      "                                                                 \n",
      " max_pooling2d_2 (MaxPooling  (32, 30, 30, 64)         0         \n",
      " 2D)                                                             \n",
      "                                                                 \n",
      " conv2d_3 (Conv2D)           (32, 28, 28, 64)          36928     \n",
      "                                                                 \n",
      " max_pooling2d_3 (MaxPooling  (32, 14, 14, 64)         0         \n",
      " 2D)                                                             \n",
      "                                                                 \n",
      " conv2d_4 (Conv2D)           (32, 12, 12, 64)          36928     \n",
      "                                                                 \n",
      " max_pooling2d_4 (MaxPooling  (32, 6, 6, 64)           0         \n",
      " 2D)                                                             \n",
      "                                                                 \n",
      " conv2d_5 (Conv2D)           (32, 4, 4, 64)            36928     \n",
      "                                                                 \n",
      " max_pooling2d_5 (MaxPooling  (32, 2, 2, 64)           0         \n",
      " 2D)                                                             \n",
      "                                                                 \n",
      " flatten (Flatten)           (32, 256)                 0         \n",
      "                                                                 \n",
      " dense (Dense)               (32, 64)                  16448     \n",
      "                                                                 \n",
      " dense_1 (Dense)             (32, 3)                   195       \n",
      "                                                                 \n",
      "=================================================================\n",
      "Total params: 183,747\n",
      "Trainable params: 183,747\n",
      "Non-trainable params: 0\n",
      "_________________________________________________________________\n"
     ]
    }
   ],
   "source": [
    "model.summary()"
   ]
  },
  {
   "cell_type": "code",
   "execution_count": 36,
   "id": "88b925f0",
   "metadata": {},
   "outputs": [],
   "source": [
    "model.compile(\n",
    "    optimizer='adam',\n",
    "    loss=tf.keras.losses.SparseCategoricalCrossentropy(from_logits=False),\n",
    "    metrics=['accuracy']\n",
    ")"
   ]
  },
  {
   "cell_type": "code",
   "execution_count": 37,
   "id": "84e4e239",
   "metadata": {
    "scrolled": false
   },
   "outputs": [
    {
     "name": "stdout",
     "output_type": "stream",
     "text": [
      "Epoch 1/50\n",
      "54/54 [==============================] - 103s 2s/step - loss: 0.9132 - accuracy: 0.4677 - val_loss: 0.9978 - val_accuracy: 0.4010\n",
      "Epoch 2/50\n",
      "54/54 [==============================] - 70s 1s/step - loss: 0.7154 - accuracy: 0.6567 - val_loss: 0.6230 - val_accuracy: 0.7292\n",
      "Epoch 3/50\n",
      "54/54 [==============================] - 73s 1s/step - loss: 0.5029 - accuracy: 0.7553 - val_loss: 0.4747 - val_accuracy: 0.7865\n",
      "Epoch 4/50\n",
      "54/54 [==============================] - 74s 1s/step - loss: 0.3196 - accuracy: 0.8727 - val_loss: 0.4484 - val_accuracy: 0.7812\n",
      "Epoch 5/50\n",
      "54/54 [==============================] - 73s 1s/step - loss: 0.2607 - accuracy: 0.8903 - val_loss: 0.2693 - val_accuracy: 0.8750\n",
      "Epoch 6/50\n",
      "54/54 [==============================] - 72s 1s/step - loss: 0.2356 - accuracy: 0.9061 - val_loss: 0.4210 - val_accuracy: 0.8333\n",
      "Epoch 7/50\n",
      "54/54 [==============================] - 73s 1s/step - loss: 0.2350 - accuracy: 0.9067 - val_loss: 0.2698 - val_accuracy: 0.8958\n",
      "Epoch 8/50\n",
      "54/54 [==============================] - 78s 1s/step - loss: 0.1962 - accuracy: 0.9155 - val_loss: 0.3350 - val_accuracy: 0.8542\n",
      "Epoch 9/50\n",
      "54/54 [==============================] - 73s 1s/step - loss: 0.2046 - accuracy: 0.9131 - val_loss: 0.2393 - val_accuracy: 0.8906\n",
      "Epoch 10/50\n",
      "54/54 [==============================] - 78s 1s/step - loss: 0.1501 - accuracy: 0.9425 - val_loss: 0.2768 - val_accuracy: 0.8750\n",
      "Epoch 11/50\n",
      "54/54 [==============================] - 78s 1s/step - loss: 0.1596 - accuracy: 0.9390 - val_loss: 0.2443 - val_accuracy: 0.9115\n",
      "Epoch 12/50\n",
      "54/54 [==============================] - 73s 1s/step - loss: 0.1609 - accuracy: 0.9396 - val_loss: 0.2596 - val_accuracy: 0.9010\n",
      "Epoch 13/50\n",
      "54/54 [==============================] - 74s 1s/step - loss: 0.1749 - accuracy: 0.9366 - val_loss: 0.2155 - val_accuracy: 0.8802\n",
      "Epoch 14/50\n",
      "54/54 [==============================] - 73s 1s/step - loss: 0.1206 - accuracy: 0.9554 - val_loss: 0.1589 - val_accuracy: 0.9323\n",
      "Epoch 15/50\n",
      "54/54 [==============================] - 73s 1s/step - loss: 0.1291 - accuracy: 0.9472 - val_loss: 0.2200 - val_accuracy: 0.8958\n",
      "Epoch 16/50\n",
      "54/54 [==============================] - 77s 1s/step - loss: 0.1100 - accuracy: 0.9589 - val_loss: 0.1643 - val_accuracy: 0.9323\n",
      "Epoch 17/50\n",
      "54/54 [==============================] - 73s 1s/step - loss: 0.1096 - accuracy: 0.9607 - val_loss: 0.1436 - val_accuracy: 0.9375\n",
      "Epoch 18/50\n",
      "54/54 [==============================] - 72s 1s/step - loss: 0.1004 - accuracy: 0.9648 - val_loss: 0.1402 - val_accuracy: 0.9375\n",
      "Epoch 19/50\n",
      "54/54 [==============================] - 73s 1s/step - loss: 0.0889 - accuracy: 0.9671 - val_loss: 0.1579 - val_accuracy: 0.9219\n",
      "Epoch 20/50\n",
      "54/54 [==============================] - 73s 1s/step - loss: 0.0747 - accuracy: 0.9748 - val_loss: 0.1273 - val_accuracy: 0.9427\n",
      "Epoch 21/50\n",
      "54/54 [==============================] - 72s 1s/step - loss: 0.0835 - accuracy: 0.9677 - val_loss: 0.2194 - val_accuracy: 0.9115\n",
      "Epoch 22/50\n",
      "54/54 [==============================] - 73s 1s/step - loss: 0.0736 - accuracy: 0.9759 - val_loss: 0.1177 - val_accuracy: 0.9583\n",
      "Epoch 23/50\n",
      "54/54 [==============================] - 72s 1s/step - loss: 0.0674 - accuracy: 0.9789 - val_loss: 0.0933 - val_accuracy: 0.9583\n",
      "Epoch 24/50\n",
      "54/54 [==============================] - 76s 1s/step - loss: 0.0686 - accuracy: 0.9754 - val_loss: 0.1066 - val_accuracy: 0.9688\n",
      "Epoch 25/50\n",
      "54/54 [==============================] - 75s 1s/step - loss: 0.0536 - accuracy: 0.9783 - val_loss: 0.0551 - val_accuracy: 0.9896\n",
      "Epoch 26/50\n",
      "54/54 [==============================] - 72s 1s/step - loss: 0.0314 - accuracy: 0.9853 - val_loss: 0.2233 - val_accuracy: 0.9375\n",
      "Epoch 27/50\n",
      "54/54 [==============================] - 72s 1s/step - loss: 0.0421 - accuracy: 0.9847 - val_loss: 0.1001 - val_accuracy: 0.9635\n",
      "Epoch 28/50\n",
      "54/54 [==============================] - 74s 1s/step - loss: 0.0467 - accuracy: 0.9824 - val_loss: 0.2307 - val_accuracy: 0.9115\n",
      "Epoch 29/50\n",
      "54/54 [==============================] - 77s 1s/step - loss: 0.0607 - accuracy: 0.9771 - val_loss: 0.1595 - val_accuracy: 0.9375\n",
      "Epoch 30/50\n",
      "54/54 [==============================] - 78s 1s/step - loss: 0.0302 - accuracy: 0.9947 - val_loss: 0.0715 - val_accuracy: 0.9792\n",
      "Epoch 31/50\n",
      "54/54 [==============================] - 74s 1s/step - loss: 0.0332 - accuracy: 0.9883 - val_loss: 0.1346 - val_accuracy: 0.9479\n",
      "Epoch 32/50\n",
      "54/54 [==============================] - 77s 1s/step - loss: 0.0230 - accuracy: 0.9924 - val_loss: 0.1863 - val_accuracy: 0.9479\n",
      "Epoch 33/50\n",
      "54/54 [==============================] - 76s 1s/step - loss: 0.0433 - accuracy: 0.9847 - val_loss: 0.1263 - val_accuracy: 0.9740\n",
      "Epoch 34/50\n",
      "54/54 [==============================] - 74s 1s/step - loss: 0.0305 - accuracy: 0.9865 - val_loss: 0.3620 - val_accuracy: 0.8906\n",
      "Epoch 35/50\n",
      "54/54 [==============================] - 74s 1s/step - loss: 0.0265 - accuracy: 0.9900 - val_loss: 0.2830 - val_accuracy: 0.9271\n",
      "Epoch 36/50\n",
      "54/54 [==============================] - 71s 1s/step - loss: 0.0291 - accuracy: 0.9894 - val_loss: 0.1138 - val_accuracy: 0.9688\n",
      "Epoch 37/50\n",
      "54/54 [==============================] - 74s 1s/step - loss: 0.0352 - accuracy: 0.9871 - val_loss: 0.0713 - val_accuracy: 0.9792\n",
      "Epoch 38/50\n",
      "54/54 [==============================] - 71s 1s/step - loss: 0.0212 - accuracy: 0.9935 - val_loss: 0.0622 - val_accuracy: 0.9896\n",
      "Epoch 39/50\n",
      "54/54 [==============================] - 70s 1s/step - loss: 0.0383 - accuracy: 0.9865 - val_loss: 0.1433 - val_accuracy: 0.9531\n",
      "Epoch 40/50\n",
      "54/54 [==============================] - 73s 1s/step - loss: 0.0371 - accuracy: 0.9853 - val_loss: 0.0920 - val_accuracy: 0.9427\n",
      "Epoch 41/50\n",
      "54/54 [==============================] - 72s 1s/step - loss: 0.0328 - accuracy: 0.9900 - val_loss: 0.0155 - val_accuracy: 0.9948\n",
      "Epoch 42/50\n",
      "54/54 [==============================] - 72s 1s/step - loss: 0.0054 - accuracy: 0.9982 - val_loss: 0.0595 - val_accuracy: 0.9844\n",
      "Epoch 43/50\n",
      "54/54 [==============================] - 71s 1s/step - loss: 0.0105 - accuracy: 0.9953 - val_loss: 0.0193 - val_accuracy: 0.9896\n",
      "Epoch 44/50\n",
      "54/54 [==============================] - 71s 1s/step - loss: 0.0231 - accuracy: 0.9883 - val_loss: 0.0515 - val_accuracy: 0.9844\n",
      "Epoch 45/50\n",
      "54/54 [==============================] - 70s 1s/step - loss: 0.0284 - accuracy: 0.9912 - val_loss: 0.0650 - val_accuracy: 0.9740\n",
      "Epoch 46/50\n",
      "54/54 [==============================] - 73s 1s/step - loss: 0.0238 - accuracy: 0.9918 - val_loss: 0.1782 - val_accuracy: 0.9479\n",
      "Epoch 47/50\n",
      "54/54 [==============================] - 73s 1s/step - loss: 0.0165 - accuracy: 0.9941 - val_loss: 0.0883 - val_accuracy: 0.9792\n",
      "Epoch 48/50\n",
      "54/54 [==============================] - 72s 1s/step - loss: 0.0135 - accuracy: 0.9947 - val_loss: 0.2511 - val_accuracy: 0.9271\n",
      "Epoch 49/50\n",
      "54/54 [==============================] - 76s 1s/step - loss: 0.0208 - accuracy: 0.9918 - val_loss: 0.0776 - val_accuracy: 0.9792\n",
      "Epoch 50/50\n",
      "54/54 [==============================] - 73s 1s/step - loss: 0.0400 - accuracy: 0.9871 - val_loss: 0.1517 - val_accuracy: 0.9375\n"
     ]
    }
   ],
   "source": [
    "history = model.fit(\n",
    "    train_ds,\n",
    "    batch_size=BATCH_SIZE,\n",
    "    validation_data=val_ds,\n",
    "    verbose=1,\n",
    "    epochs=50\n",
    ")"
   ]
  },
  {
   "cell_type": "code",
   "execution_count": 27,
   "id": "92a6e241",
   "metadata": {
    "scrolled": false
   },
   "outputs": [],
   "source": [
    "# from tensorflow.keras.metrics import Precision, Recall, BinaryAccuracy\n",
    "# pre = Precision()\n",
    "# re = Recall()\n",
    "# acc = BinaryAccuracy()\n",
    "# for batch in test_ds.as_numpy_iterator():\n",
    "#     X, y = batch\n",
    "#     yhat = model.predict(X)\n",
    "#     pre.update_state(y, yhat)\n",
    "#     re.update_state(y, yhat)\n",
    "#     acc.update_state(y, yhat)\n",
    "    \n",
    "# print(f'Precision:{pre.result().numpy()}, Recall:{re.result().numpy()}, Accuracy:{acc.result().numpy()}')"
   ]
  },
  {
   "cell_type": "code",
   "execution_count": 38,
   "id": "01cc5637",
   "metadata": {},
   "outputs": [
    {
     "name": "stdout",
     "output_type": "stream",
     "text": [
      "8/8 [==============================] - 3s 373ms/step - loss: 0.1426 - accuracy: 0.9531\n"
     ]
    }
   ],
   "source": [
    "scores = model.evaluate(test_ds)"
   ]
  },
  {
   "cell_type": "code",
   "execution_count": 39,
   "id": "170a5b95",
   "metadata": {},
   "outputs": [
    {
     "data": {
      "text/plain": [
       "[0.14256271719932556, 0.953125]"
      ]
     },
     "execution_count": 39,
     "metadata": {},
     "output_type": "execute_result"
    }
   ],
   "source": [
    "scores"
   ]
  },
  {
   "cell_type": "code",
   "execution_count": 40,
   "id": "ee79dada",
   "metadata": {},
   "outputs": [
    {
     "data": {
      "text/plain": [
       "<keras.callbacks.History at 0x111cfac2be0>"
      ]
     },
     "execution_count": 40,
     "metadata": {},
     "output_type": "execute_result"
    }
   ],
   "source": [
    "history"
   ]
  },
  {
   "cell_type": "code",
   "execution_count": 41,
   "id": "66968db3",
   "metadata": {},
   "outputs": [
    {
     "data": {
      "text/plain": [
       "{'verbose': 1, 'epochs': 50, 'steps': 54}"
      ]
     },
     "execution_count": 41,
     "metadata": {},
     "output_type": "execute_result"
    }
   ],
   "source": [
    "history.params"
   ]
  },
  {
   "cell_type": "code",
   "execution_count": 42,
   "id": "f2d0f7f3",
   "metadata": {},
   "outputs": [
    {
     "data": {
      "text/plain": [
       "dict_keys(['loss', 'accuracy', 'val_loss', 'val_accuracy'])"
      ]
     },
     "execution_count": 42,
     "metadata": {},
     "output_type": "execute_result"
    }
   ],
   "source": [
    "history.history.keys()"
   ]
  },
  {
   "cell_type": "code",
   "execution_count": 43,
   "id": "7c75ae88",
   "metadata": {},
   "outputs": [
    {
     "data": {
      "text/plain": [
       "list"
      ]
     },
     "execution_count": 43,
     "metadata": {},
     "output_type": "execute_result"
    }
   ],
   "source": [
    "type(history.history['loss'])"
   ]
  },
  {
   "cell_type": "code",
   "execution_count": 44,
   "id": "5a47dee6",
   "metadata": {},
   "outputs": [
    {
     "data": {
      "text/plain": [
       "50"
      ]
     },
     "execution_count": 44,
     "metadata": {},
     "output_type": "execute_result"
    }
   ],
   "source": [
    "len(history.history['loss'])"
   ]
  },
  {
   "cell_type": "code",
   "execution_count": 45,
   "id": "6fabe560",
   "metadata": {},
   "outputs": [],
   "source": [
    "acc = history.history['accuracy']\n",
    "val_acc = history.history['val_accuracy']\n",
    "\n",
    "loss = history.history['loss']\n",
    "val_loss = history.history['val_loss']"
   ]
  },
  {
   "cell_type": "code",
   "execution_count": 46,
   "id": "1d82c76a",
   "metadata": {},
   "outputs": [],
   "source": [
    "import numpy as np\n",
    "def predict(model, img):\n",
    "    img_array = tf.keras.preprocessing.image.img_to_array(images[i].numpy())\n",
    "    img_array = tf.expand_dims(img_array, 0)\n",
    "\n",
    "    predictions = model.predict(img_array)\n",
    "\n",
    "    predicted_class = class_names[np.argmax(predictions[0])]\n",
    "#     predicted_class = class_names[predictions[0]]\n",
    "    confidence = round(100 * (np.max(predictions[0])), 2)\n",
    "#     confidence = round(100 * (predictions[0]), 2)\n",
    "    return predicted_class, confidence"
   ]
  },
  {
   "cell_type": "code",
   "execution_count": 47,
   "id": "86bdbfd5",
   "metadata": {},
   "outputs": [
    {
     "name": "stdout",
     "output_type": "stream",
     "text": [
      "1/1 [==============================] - 0s 174ms/step\n",
      "Actual: Potato___Early_blight, \n",
      "Predicted: Potato___Early_blight.\n",
      " Confidence: 99.2%\n",
      "1/1 [==============================] - 0s 31ms/step\n",
      "Actual: Potato___Late_blight, \n",
      "Predicted: Potato___Late_blight.\n",
      " Confidence: 100.0%\n",
      "1/1 [==============================] - 0s 34ms/step\n",
      "Actual: Potato___Early_blight, \n",
      "Predicted: Potato___Early_blight.\n",
      " Confidence: 99.99%\n",
      "1/1 [==============================] - 0s 44ms/step\n",
      "Actual: Potato___Late_blight, \n",
      "Predicted: Potato___Late_blight.\n",
      " Confidence: 100.0%\n",
      "1/1 [==============================] - 0s 41ms/step\n",
      "Actual: Potato___Early_blight, \n",
      "Predicted: Potato___Early_blight.\n",
      " Confidence: 99.98%\n",
      "1/1 [==============================] - 0s 41ms/step\n",
      "Actual: Potato___Early_blight, \n",
      "Predicted: Potato___Early_blight.\n",
      " Confidence: 99.23%\n",
      "1/1 [==============================] - 0s 38ms/step\n",
      "Actual: Potato___Late_blight, \n",
      "Predicted: Potato___Late_blight.\n",
      " Confidence: 100.0%\n",
      "1/1 [==============================] - 0s 44ms/step\n",
      "Actual: Potato___Late_blight, \n",
      "Predicted: Potato___Late_blight.\n",
      " Confidence: 100.0%\n",
      "1/1 [==============================] - 0s 37ms/step\n",
      "Actual: Potato___Early_blight, \n",
      "Predicted: Potato___Early_blight.\n",
      " Confidence: 99.96%\n"
     ]
    }
   ],
   "source": [
    "for images, labels in test_ds.take(1):\n",
    "    for i in range(9):\n",
    "#         ax = plt.subplot(3, 3, i + 1)\n",
    "#         plt.imshow(images[i].numpy().astype(\"uint8\"))\n",
    "        \n",
    "        predicted_class, confidence = predict(model, images[i].numpy())\n",
    "        actual_class = class_names[labels[i]] \n",
    "        \n",
    "        print(f\"Actual: {actual_class}, \\nPredicted: {predicted_class}.\\n Confidence: {confidence}%\")\n",
    "#         f\"Actual: {actual_class},\\n Predicted: {predicted_class}.\\n Confidence: {confidence}%\")\n",
    "        \n",
    "#         plt.axis(\"off\")"
   ]
  },
  {
   "cell_type": "code",
   "execution_count": 40,
   "id": "f4b7e70d",
   "metadata": {},
   "outputs": [],
   "source": [
    "# import os\n",
    "# model_version = 1\n",
    "# model.save(f\"../models/{model_version}\")\n",
    "# model_version=max([int(i) for i in os.listdir(\"../models\") + [0]])+1\n",
    "# for creating new version above line\n",
    "# if os.path.isfile('models/disease.h5') is False:\n",
    "#     model.save('model/disease.h5')"
   ]
  },
  {
   "cell_type": "code",
   "execution_count": 48,
   "id": "50619105",
   "metadata": {},
   "outputs": [
    {
     "name": "stdout",
     "output_type": "stream",
     "text": [
      "2.11.0\n"
     ]
    }
   ],
   "source": [
    "import tensorflow as tf\n",
    "print(tf. __version__)"
   ]
  },
  {
   "cell_type": "code",
   "execution_count": 49,
   "id": "43da604d",
   "metadata": {},
   "outputs": [],
   "source": [
    "MODEL = tf.keras.models.load_model('../saved_models/1')"
   ]
  },
  {
   "cell_type": "code",
   "execution_count": 50,
   "id": "80cb7c0b",
   "metadata": {},
   "outputs": [
    {
     "data": {
      "text/plain": [
       "4"
      ]
     },
     "execution_count": 50,
     "metadata": {},
     "output_type": "execute_result"
    }
   ],
   "source": [
    "2+2"
   ]
  }
 ],
 "metadata": {
  "kernelspec": {
   "display_name": "Python 3 (ipykernel)",
   "language": "python",
   "name": "python3"
  },
  "language_info": {
   "codemirror_mode": {
    "name": "ipython",
    "version": 3
   },
   "file_extension": ".py",
   "mimetype": "text/x-python",
   "name": "python",
   "nbconvert_exporter": "python",
   "pygments_lexer": "ipython3",
   "version": "3.9.13"
  }
 },
 "nbformat": 4,
 "nbformat_minor": 5
}
